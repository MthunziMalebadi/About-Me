{
  "nbformat": 4,
  "nbformat_minor": 0,
  "metadata": {
    "colab": {
      "provenance": [],
      "authorship_tag": "ABX9TyPAWvaAZXAfiD7GBqSQDMwX",
      "include_colab_link": true
    },
    "kernelspec": {
      "name": "python3",
      "display_name": "Python 3"
    },
    "language_info": {
      "name": "python"
    }
  },
  "cells": [
    {
      "cell_type": "markdown",
      "metadata": {
        "id": "view-in-github",
        "colab_type": "text"
      },
      "source": [
        "<a href=\"https://colab.research.google.com/github/MthunziMalebadi/About-Me/blob/main/Week_6_AI_in_Action.ipynb\" target=\"_parent\"><img src=\"https://colab.research.google.com/assets/colab-badge.svg\" alt=\"Open In Colab\"/></a>"
      ]
    },
    {
      "cell_type": "code",
      "execution_count": 1,
      "metadata": {
        "id": "3QtN8DrCKDa4"
      },
      "outputs": [],
      "source": [
        "#Import the pandas library\n",
        "import pandas as pd\n"
      ]
    },
    {
      "cell_type": "code",
      "source": [
        "# Creating my student dataset manually\n",
        "data = {\n",
        "    \"StudentID\": [1, 2, 3, 4, 5, 6, 7, 8, 9, 10,\n",
        "                  11, 12, 13, 14, 15, 16, 17, 18, 19, 20,\n",
        "                  21, 22, 23, 24, 25, 26, 27, 28, 29, 30],\n",
        "    \"Hours_Studied\": [7, 7, 5, 7, 8, 4, 1, 3, 4, 1,\n",
        "                      4, 1, 5, 7, 3, 1, 10, 6, 10, 3,\n",
        "                      4, 8, 2, 7, 7, 2, 8, 2, 4, 7],\n",
        "    \"Attendance_Percent\": [61, 83, 82, 54, 96, 76, 97, 60, 78, 96,\n",
        "                           51, 60, 64, 80, 85, 52, 76, 87, 53, 76,\n",
        "                           67, 75, 54, 53, 78, 93, 85, 70, 61, 88],\n",
        "    \"Passed\": ['Yes', 'Yes', 'Yes', 'Yes', 'Yes', 'Yes', 'No', 'Yes', 'No', 'Yes',\n",
        "               'Yes', 'Yes', 'Yes', 'Yes', 'Yes', 'No', 'Yes', 'No', 'Yes', 'Yes',\n",
        "               'No', 'Yes', 'Yes', 'Yes', 'No', 'Yes', 'No', 'No', 'Yes', 'No']\n",
        "}\n",
        "\n",
        "# Step: Converting to a DataFrame\n",
        "df = pd.DataFrame(data)\n"
      ],
      "metadata": {
        "id": "5sjE1ZIBKMVe"
      },
      "execution_count": 2,
      "outputs": []
    },
    {
      "cell_type": "code",
      "source": [
        "#Display the full dataset\n",
        "print(df)\n"
      ],
      "metadata": {
        "colab": {
          "base_uri": "https://localhost:8080/"
        },
        "id": "7TJbjgMiKeZx",
        "outputId": "0f785061-097c-4e1d-fc8f-e03dd39d20f7"
      },
      "execution_count": 3,
      "outputs": [
        {
          "output_type": "stream",
          "name": "stdout",
          "text": [
            "    StudentID  Hours_Studied  Attendance_Percent Passed\n",
            "0           1              7                  61    Yes\n",
            "1           2              7                  83    Yes\n",
            "2           3              5                  82    Yes\n",
            "3           4              7                  54    Yes\n",
            "4           5              8                  96    Yes\n",
            "5           6              4                  76    Yes\n",
            "6           7              1                  97     No\n",
            "7           8              3                  60    Yes\n",
            "8           9              4                  78     No\n",
            "9          10              1                  96    Yes\n",
            "10         11              4                  51    Yes\n",
            "11         12              1                  60    Yes\n",
            "12         13              5                  64    Yes\n",
            "13         14              7                  80    Yes\n",
            "14         15              3                  85    Yes\n",
            "15         16              1                  52     No\n",
            "16         17             10                  76    Yes\n",
            "17         18              6                  87     No\n",
            "18         19             10                  53    Yes\n",
            "19         20              3                  76    Yes\n",
            "20         21              4                  67     No\n",
            "21         22              8                  75    Yes\n",
            "22         23              2                  54    Yes\n",
            "23         24              7                  53    Yes\n",
            "24         25              7                  78     No\n",
            "25         26              2                  93    Yes\n",
            "26         27              8                  85     No\n",
            "27         28              2                  70     No\n",
            "28         29              4                  61    Yes\n",
            "29         30              7                  88     No\n"
          ]
        }
      ]
    },
    {
      "cell_type": "code",
      "source": [
        "#Show the first 5 rows\n",
        "print(df.head())\n"
      ],
      "metadata": {
        "colab": {
          "base_uri": "https://localhost:8080/"
        },
        "id": "R0w-oUqAKlBu",
        "outputId": "f7f231e4-b7b0-40d6-a996-b3066175aca0"
      },
      "execution_count": 4,
      "outputs": [
        {
          "output_type": "stream",
          "name": "stdout",
          "text": [
            "   StudentID  Hours_Studied  Attendance_Percent Passed\n",
            "0          1              7                  61    Yes\n",
            "1          2              7                  83    Yes\n",
            "2          3              5                  82    Yes\n",
            "3          4              7                  54    Yes\n",
            "4          5              8                  96    Yes\n"
          ]
        }
      ]
    },
    {
      "cell_type": "code",
      "source": [
        "#Count how many students have passed vs failed\n",
        "print(df['Passed'].value_counts())\n"
      ],
      "metadata": {
        "colab": {
          "base_uri": "https://localhost:8080/"
        },
        "id": "O7mK1yaJKp28",
        "outputId": "a0a8c034-ae12-488f-9d73-5fd777aa421f"
      },
      "execution_count": 5,
      "outputs": [
        {
          "output_type": "stream",
          "name": "stdout",
          "text": [
            "Passed\n",
            "Yes    21\n",
            "No      9\n",
            "Name: count, dtype: int64\n"
          ]
        }
      ]
    },
    {
      "cell_type": "code",
      "source": [
        "#Calculate average hours studied\n",
        "average_hours = df['Hours_Studied'].mean()\n",
        "print(\"Average Hours Studied:\", round(average_hours, 2))\n"
      ],
      "metadata": {
        "colab": {
          "base_uri": "https://localhost:8080/"
        },
        "id": "GAmuklFwKtT4",
        "outputId": "0c499b04-326a-4373-8ea0-80f996af3ce1"
      },
      "execution_count": 6,
      "outputs": [
        {
          "output_type": "stream",
          "name": "stdout",
          "text": [
            "Average Hours Studied: 4.93\n"
          ]
        }
      ]
    },
    {
      "cell_type": "code",
      "source": [
        "#Calculate average attendance of students who passed\n",
        "passed_students = df[df['Passed'] == 'Yes']\n",
        "average_attendance = passed_students['Attendance_Percent'].mean()\n",
        "print(\"Average Attendance of Students Who Passed:\", round(average_attendance, 2))\n"
      ],
      "metadata": {
        "colab": {
          "base_uri": "https://localhost:8080/"
        },
        "id": "Z-hks1jpKybB",
        "outputId": "951308da-6e91-4fc0-dd29-36c8acf7dd89"
      },
      "execution_count": 7,
      "outputs": [
        {
          "output_type": "stream",
          "name": "stdout",
          "text": [
            "Average Attendance of Students Who Passed: 70.9\n"
          ]
        }
      ]
    },
    {
      "cell_type": "code",
      "source": [],
      "metadata": {
        "id": "lTi-JLIZK2Em"
      },
      "execution_count": null,
      "outputs": []
    }
  ]
}